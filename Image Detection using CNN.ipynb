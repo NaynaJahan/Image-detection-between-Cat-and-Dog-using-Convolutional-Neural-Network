{
 "cells": [
  {
   "cell_type": "markdown",
   "metadata": {
    "id": "3DR-eO17geWu"
   },
   "source": [
    "# Image detection (between Cat and Dog) using Convolutional Neural Network"
   ]
  },
  {
   "cell_type": "markdown",
   "metadata": {
    "id": "EMefrVPCg-60"
   },
   "source": [
    "### Importing the libraries"
   ]
  },
  {
   "cell_type": "code",
   "execution_count": 1,
   "metadata": {
    "id": "sCV30xyVhFbE"
   },
   "outputs": [],
   "source": [
    "import tensorflow as tf\n",
    "from keras.preprocessing.image import ImageDataGenerator"
   ]
  },
  {
   "cell_type": "code",
   "execution_count": 2,
   "metadata": {
    "id": "FIleuCAjoFD8"
   },
   "outputs": [
    {
     "data": {
      "text/plain": [
       "'2.6.0'"
      ]
     },
     "execution_count": 2,
     "metadata": {},
     "output_type": "execute_result"
    }
   ],
   "source": [
    "tf.__version__"
   ]
  },
  {
   "cell_type": "markdown",
   "metadata": {
    "id": "oxQxCBWyoGPE"
   },
   "source": [
    "## Part 1 - Data Preprocessing"
   ]
  },
  {
   "cell_type": "markdown",
   "metadata": {
    "id": "MvE-heJNo3GG"
   },
   "source": [
    "### Preprocessing the Training set"
   ]
  },
  {
   "cell_type": "code",
   "execution_count": 3,
   "metadata": {
    "id": "0koUcJMJpEBD"
   },
   "outputs": [
    {
     "name": "stdout",
     "output_type": "stream",
     "text": [
      "Found 8000 images belonging to 2 classes.\n"
     ]
    }
   ],
   "source": [
    "train_datagen = ImageDataGenerator(rescale = 1./255,\n",
    "                                   shear_range = 0.2,\n",
    "                                   zoom_range = 0.2,\n",
    "                                   horizontal_flip = True)\n",
    "training_set = train_datagen.flow_from_directory('dataset/training_set',\n",
    "                                                 target_size = (64, 64),\n",
    "                                                 batch_size = 32,\n",
    "                                                 class_mode = 'binary')"
   ]
  },
  {
   "cell_type": "markdown",
   "metadata": {
    "id": "mrCMmGw9pHys"
   },
   "source": [
    "### Preprocessing the Test set"
   ]
  },
  {
   "cell_type": "code",
   "execution_count": 4,
   "metadata": {
    "id": "SH4WzfOhpKc3"
   },
   "outputs": [
    {
     "name": "stdout",
     "output_type": "stream",
     "text": [
      "Found 2000 images belonging to 2 classes.\n"
     ]
    }
   ],
   "source": [
    "test_datagen = ImageDataGenerator(rescale = 1./255)\n",
    "test_set = test_datagen.flow_from_directory('dataset/test_set',\n",
    "                                            target_size = (64, 64),\n",
    "                                            batch_size = 32,\n",
    "                                            class_mode = 'binary')"
   ]
  },
  {
   "cell_type": "markdown",
   "metadata": {
    "id": "af8O4l90gk7B"
   },
   "source": [
    "## Part 2 - Building the CNN"
   ]
  },
  {
   "cell_type": "markdown",
   "metadata": {
    "id": "ces1gXY2lmoX"
   },
   "source": [
    "### Initialising the CNN"
   ]
  },
  {
   "cell_type": "code",
   "execution_count": 5,
   "metadata": {
    "id": "SAUt4UMPlhLS"
   },
   "outputs": [],
   "source": [
    "cnn = tf.keras.models.Sequential()"
   ]
  },
  {
   "cell_type": "markdown",
   "metadata": {
    "id": "u5YJj_XMl5LF"
   },
   "source": [
    "### Step 1 - Convolution"
   ]
  },
  {
   "cell_type": "code",
   "execution_count": 6,
   "metadata": {
    "id": "XPzPrMckl-hV"
   },
   "outputs": [],
   "source": [
    "cnn.add(tf.keras.layers.Conv2D(filters=32, kernel_size=3, activation='relu', input_shape=[64, 64, 3]))"
   ]
  },
  {
   "cell_type": "markdown",
   "metadata": {
    "id": "tf87FpvxmNOJ"
   },
   "source": [
    "### Step 2 - Pooling"
   ]
  },
  {
   "cell_type": "code",
   "execution_count": 7,
   "metadata": {
    "id": "ncpqPl69mOac"
   },
   "outputs": [],
   "source": [
    "cnn.add(tf.keras.layers.MaxPool2D(pool_size=2, strides=2))"
   ]
  },
  {
   "cell_type": "markdown",
   "metadata": {
    "id": "xaTOgD8rm4mU"
   },
   "source": [
    "### Adding a second convolutional layer"
   ]
  },
  {
   "cell_type": "code",
   "execution_count": 8,
   "metadata": {
    "id": "i_-FZjn_m8gk"
   },
   "outputs": [],
   "source": [
    "cnn.add(tf.keras.layers.Conv2D(filters=32, kernel_size=3, activation='relu'))\n",
    "cnn.add(tf.keras.layers.MaxPool2D(pool_size=2, strides=2))"
   ]
  },
  {
   "cell_type": "markdown",
   "metadata": {
    "id": "tmiEuvTunKfk"
   },
   "source": [
    "### Step 3 - Flattening"
   ]
  },
  {
   "cell_type": "code",
   "execution_count": 9,
   "metadata": {
    "id": "6AZeOGCvnNZn"
   },
   "outputs": [],
   "source": [
    "cnn.add(tf.keras.layers.Flatten())"
   ]
  },
  {
   "cell_type": "markdown",
   "metadata": {
    "id": "dAoSECOm203v"
   },
   "source": [
    "### Step 4 - Full Connection"
   ]
  },
  {
   "cell_type": "code",
   "execution_count": 10,
   "metadata": {
    "id": "8GtmUlLd26Nq"
   },
   "outputs": [],
   "source": [
    "cnn.add(tf.keras.layers.Dense(units=128, activation='relu'))"
   ]
  },
  {
   "cell_type": "markdown",
   "metadata": {
    "id": "yTldFvbX28Na"
   },
   "source": [
    "### Step 5 - Output Layer"
   ]
  },
  {
   "cell_type": "code",
   "execution_count": 11,
   "metadata": {
    "id": "1p_Zj1Mc3Ko_"
   },
   "outputs": [],
   "source": [
    "cnn.add(tf.keras.layers.Dense(units=1, activation='sigmoid'))"
   ]
  },
  {
   "cell_type": "markdown",
   "metadata": {
    "id": "D6XkI90snSDl"
   },
   "source": [
    "## Part 3 - Training the CNN"
   ]
  },
  {
   "cell_type": "markdown",
   "metadata": {
    "id": "vfrFQACEnc6i"
   },
   "source": [
    "### Compiling the CNN"
   ]
  },
  {
   "cell_type": "code",
   "execution_count": 12,
   "metadata": {
    "id": "NALksrNQpUlJ"
   },
   "outputs": [],
   "source": [
    "cnn.compile(optimizer = 'adam', loss = 'binary_crossentropy', metrics = ['accuracy'])"
   ]
  },
  {
   "cell_type": "markdown",
   "metadata": {
    "id": "ehS-v3MIpX2h"
   },
   "source": [
    "### Training the CNN on the Training set and evaluating it on the Test set"
   ]
  },
  {
   "cell_type": "code",
   "execution_count": 13,
   "metadata": {
    "id": "XUj1W4PJptta"
   },
   "outputs": [
    {
     "name": "stdout",
     "output_type": "stream",
     "text": [
      "Epoch 1/25\n",
      "250/250 [==============================] - 99s 388ms/step - loss: 0.6731 - accuracy: 0.5800 - val_loss: 0.6378 - val_accuracy: 0.6360\n",
      "Epoch 2/25\n",
      "250/250 [==============================] - 46s 184ms/step - loss: 0.6198 - accuracy: 0.6580 - val_loss: 0.6157 - val_accuracy: 0.6645\n",
      "Epoch 3/25\n",
      "250/250 [==============================] - 59s 235ms/step - loss: 0.5800 - accuracy: 0.6957 - val_loss: 0.5716 - val_accuracy: 0.7025\n",
      "Epoch 4/25\n",
      "250/250 [==============================] - 58s 232ms/step - loss: 0.5573 - accuracy: 0.7071 - val_loss: 0.5565 - val_accuracy: 0.7230\n",
      "Epoch 5/25\n",
      "250/250 [==============================] - 60s 240ms/step - loss: 0.5233 - accuracy: 0.7395 - val_loss: 0.5429 - val_accuracy: 0.7215\n",
      "Epoch 6/25\n",
      "250/250 [==============================] - 47s 186ms/step - loss: 0.5004 - accuracy: 0.7541 - val_loss: 0.5235 - val_accuracy: 0.7585\n",
      "Epoch 7/25\n",
      "250/250 [==============================] - 58s 233ms/step - loss: 0.4824 - accuracy: 0.7685 - val_loss: 0.4930 - val_accuracy: 0.7605\n",
      "Epoch 8/25\n",
      "250/250 [==============================] - 58s 230ms/step - loss: 0.4619 - accuracy: 0.7782 - val_loss: 0.4728 - val_accuracy: 0.7735\n",
      "Epoch 9/25\n",
      "250/250 [==============================] - 54s 217ms/step - loss: 0.4425 - accuracy: 0.7904 - val_loss: 0.5760 - val_accuracy: 0.7340\n",
      "Epoch 10/25\n",
      "250/250 [==============================] - 48s 192ms/step - loss: 0.4244 - accuracy: 0.7976 - val_loss: 0.5469 - val_accuracy: 0.7500\n",
      "Epoch 11/25\n",
      "250/250 [==============================] - 44s 178ms/step - loss: 0.4223 - accuracy: 0.7980 - val_loss: 0.5482 - val_accuracy: 0.7510\n",
      "Epoch 12/25\n",
      "250/250 [==============================] - 44s 176ms/step - loss: 0.4014 - accuracy: 0.8138 - val_loss: 0.5001 - val_accuracy: 0.7765\n",
      "Epoch 13/25\n",
      "250/250 [==============================] - 44s 178ms/step - loss: 0.3810 - accuracy: 0.8255 - val_loss: 0.5221 - val_accuracy: 0.7580\n",
      "Epoch 14/25\n",
      "250/250 [==============================] - 44s 177ms/step - loss: 0.3645 - accuracy: 0.8347 - val_loss: 0.4653 - val_accuracy: 0.7895\n",
      "Epoch 15/25\n",
      "250/250 [==============================] - 44s 177ms/step - loss: 0.3600 - accuracy: 0.8418 - val_loss: 0.5074 - val_accuracy: 0.7730\n",
      "Epoch 16/25\n",
      "250/250 [==============================] - 51s 205ms/step - loss: 0.3389 - accuracy: 0.8504 - val_loss: 0.5196 - val_accuracy: 0.7875\n",
      "Epoch 17/25\n",
      "250/250 [==============================] - 51s 204ms/step - loss: 0.3325 - accuracy: 0.8529 - val_loss: 0.5518 - val_accuracy: 0.7705\n",
      "Epoch 18/25\n",
      "250/250 [==============================] - 55s 218ms/step - loss: 0.3125 - accuracy: 0.8661 - val_loss: 0.5027 - val_accuracy: 0.7925\n",
      "Epoch 19/25\n",
      "250/250 [==============================] - 53s 212ms/step - loss: 0.2955 - accuracy: 0.8771 - val_loss: 0.5316 - val_accuracy: 0.7785\n",
      "Epoch 20/25\n",
      "250/250 [==============================] - 44s 177ms/step - loss: 0.2882 - accuracy: 0.8785 - val_loss: 0.5290 - val_accuracy: 0.7890\n",
      "Epoch 21/25\n",
      "250/250 [==============================] - 44s 176ms/step - loss: 0.2598 - accuracy: 0.8920 - val_loss: 0.5266 - val_accuracy: 0.7880\n",
      "Epoch 22/25\n",
      "250/250 [==============================] - 44s 177ms/step - loss: 0.2565 - accuracy: 0.8938 - val_loss: 0.5414 - val_accuracy: 0.7780\n",
      "Epoch 23/25\n",
      "250/250 [==============================] - 52s 210ms/step - loss: 0.2445 - accuracy: 0.9013 - val_loss: 0.5969 - val_accuracy: 0.7745\n",
      "Epoch 24/25\n",
      "250/250 [==============================] - 48s 191ms/step - loss: 0.2255 - accuracy: 0.9094 - val_loss: 0.5401 - val_accuracy: 0.7955\n",
      "Epoch 25/25\n",
      "250/250 [==============================] - 54s 216ms/step - loss: 0.2065 - accuracy: 0.9205 - val_loss: 0.5993 - val_accuracy: 0.7940\n"
     ]
    },
    {
     "data": {
      "text/plain": [
       "<keras.callbacks.History at 0x195fa8acc40>"
      ]
     },
     "execution_count": 13,
     "metadata": {},
     "output_type": "execute_result"
    }
   ],
   "source": [
    "cnn.fit(x = training_set, validation_data = test_set, epochs = 25)"
   ]
  },
  {
   "cell_type": "markdown",
   "metadata": {
    "id": "U3PZasO0006Z"
   },
   "source": [
    "## Part 4 - Making a single prediction"
   ]
  },
  {
   "cell_type": "code",
   "execution_count": 14,
   "metadata": {
    "id": "gsSiWEJY1BPB"
   },
   "outputs": [],
   "source": [
    "import numpy as np\n",
    "from keras.preprocessing import image\n",
    "test_image = image.load_img('dataset/single_prediction/cat_or_dog_1.jpg', target_size = (64, 64))\n",
    "test_image = image.img_to_array(test_image)\n",
    "test_image = np.expand_dims(test_image, axis = 0)\n",
    "result = cnn.predict(test_image)\n",
    "training_set.class_indices\n",
    "if result[0][0] == 1:\n",
    "  prediction = 'dog'\n",
    "else:\n",
    "  prediction = 'cat'"
   ]
  },
  {
   "cell_type": "code",
   "execution_count": 15,
   "metadata": {
    "id": "ED9KB3I54c1i"
   },
   "outputs": [
    {
     "name": "stdout",
     "output_type": "stream",
     "text": [
      "dog\n"
     ]
    }
   ],
   "source": [
    "print(prediction)"
   ]
  },
  {
   "cell_type": "code",
   "execution_count": null,
   "metadata": {},
   "outputs": [],
   "source": []
  }
 ],
 "metadata": {
  "colab": {
   "collapsed_sections": [],
   "name": "convolutional_neural_network.ipynb",
   "provenance": []
  },
  "kernelspec": {
   "display_name": "Python 3",
   "language": "python",
   "name": "python3"
  },
  "language_info": {
   "codemirror_mode": {
    "name": "ipython",
    "version": 3
   },
   "file_extension": ".py",
   "mimetype": "text/x-python",
   "name": "python",
   "nbconvert_exporter": "python",
   "pygments_lexer": "ipython3",
   "version": "3.8.3"
  }
 },
 "nbformat": 4,
 "nbformat_minor": 1
}
